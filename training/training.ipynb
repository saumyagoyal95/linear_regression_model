{
 "cells": [
  {
   "cell_type": "markdown",
   "id": "c9cd1984",
   "metadata": {},
   "source": [
    "<a href=\"https://akademie.datamics.com/kursliste/\">![title](screenshots/bg_datamics_top.png)</a>\n",
    "\n",
    "<center><em>© Datamics</em></center><br><center><em>Check out our courses on <a href='https://akademie.datamics.com/kursliste/'>www.akademie.datamics.com</a></em>"
   ]
  },
  {
   "cell_type": "markdown",
   "id": "5f5608c1",
   "metadata": {},
   "source": [
    "<div class=\"alert alert-info\">\n",
    "    <h1>  Dataset: Wine Quality prediction </h1>\n",
    "</div>\n",
    "\n",
    "*This datasets is related to red variants of the Portuguese. Due to privacy and logistic issues, only physicochemical (inputs) and sensory (the output) variables are available (e.g. there is no data about grape types, wine brand, wine selling price, etc.).*\n",
    "\n",
    "*The datasets can be viewed as classification or regression tasks. The classes are ordered and not balanced (e.g. there are much more normal wines than excellent or poor ones).*\n",
    "\n",
    "**Input Features:** \n",
    "- Fixed acidity \n",
    "- Volatile acidity\n",
    "- Citric acid\n",
    "- Residual sugar\n",
    "- Chlorides\n",
    "- Free sulfur dioxide\n",
    "- Total sulfur dioxide\n",
    "- Density\n",
    "- pH\n",
    "- Sulphate\n",
    "- Alcohol\n",
    "\n",
    "**Output column:** \n",
    "- Quality (score between 0 and 10)\n",
    "\n",
    "\n",
    "Data is available at: https://www.kaggle.com/datasets/uciml/red-wine-quality-cortez-et-al-2009?resource=download"
   ]
  },
  {
   "cell_type": "markdown",
   "id": "f7e1c3ba",
   "metadata": {},
   "source": [
    "### Setup data\n",
    "- Create a folder named data within the current directory, <br> it should look something like this <code> < path to Jupyter Notebook >/mlcon_mlflow/data </code>\n",
    "- Unzip and put the downloaded data in this folder"
   ]
  },
  {
   "cell_type": "markdown",
   "id": "1f5f468d",
   "metadata": {},
   "source": [
    "<div class=\"alert alert-info\"> \n",
    "<h2>Model Training</h2>\n",
    "</div>"
   ]
  },
  {
   "cell_type": "markdown",
   "id": "81f0cc9a",
   "metadata": {},
   "source": [
    "### 0.Installation"
   ]
  },
  {
   "cell_type": "code",
   "execution_count": null,
   "id": "b935f3cb",
   "metadata": {},
   "outputs": [],
   "source": [
    "# pip install pandas"
   ]
  },
  {
   "cell_type": "code",
   "execution_count": null,
   "id": "449c8284",
   "metadata": {},
   "outputs": [],
   "source": [
    "# pip install numpy"
   ]
  },
  {
   "cell_type": "code",
   "execution_count": null,
   "id": "80580845",
   "metadata": {},
   "outputs": [],
   "source": [
    "# pip install seaborn"
   ]
  },
  {
   "cell_type": "code",
   "execution_count": null,
   "id": "c71619f2",
   "metadata": {},
   "outputs": [],
   "source": [
    "# pip install scikit-learn"
   ]
  },
  {
   "cell_type": "code",
   "execution_count": 1,
   "id": "f48b5e64",
   "metadata": {},
   "outputs": [],
   "source": [
    "# import required packages\n",
    "\n",
    "import pandas as pd\n",
    "import numpy as np\n",
    "\n",
    "from sklearn.linear_model import ElasticNet\n",
    "from sklearn.model_selection import train_test_split\n",
    "from sklearn import metrics\n",
    "    \n",
    "import matplotlib.pyplot as plt\n",
    "%matplotlib inline\n",
    "import seaborn as sns"
   ]
  },
  {
   "cell_type": "markdown",
   "id": "b46ac83f",
   "metadata": {},
   "source": [
    "### 1. Load Data"
   ]
  },
  {
   "cell_type": "code",
   "execution_count": 2,
   "id": "0c686346",
   "metadata": {},
   "outputs": [],
   "source": [
    "# Read csv file\n",
    "df = pd.read_csv(\"data/winequality-red.csv\")"
   ]
  },
  {
   "cell_type": "code",
   "execution_count": 3,
   "id": "ae753419",
   "metadata": {},
   "outputs": [
    {
     "data": {
      "text/html": [
       "<div>\n",
       "<style scoped>\n",
       "    .dataframe tbody tr th:only-of-type {\n",
       "        vertical-align: middle;\n",
       "    }\n",
       "\n",
       "    .dataframe tbody tr th {\n",
       "        vertical-align: top;\n",
       "    }\n",
       "\n",
       "    .dataframe thead th {\n",
       "        text-align: right;\n",
       "    }\n",
       "</style>\n",
       "<table border=\"1\" class=\"dataframe\">\n",
       "  <thead>\n",
       "    <tr style=\"text-align: right;\">\n",
       "      <th></th>\n",
       "      <th>fixed acidity</th>\n",
       "      <th>volatile acidity</th>\n",
       "      <th>citric acid</th>\n",
       "      <th>residual sugar</th>\n",
       "      <th>chlorides</th>\n",
       "      <th>free sulfur dioxide</th>\n",
       "      <th>total sulfur dioxide</th>\n",
       "      <th>density</th>\n",
       "      <th>pH</th>\n",
       "      <th>sulphates</th>\n",
       "      <th>alcohol</th>\n",
       "      <th>quality</th>\n",
       "    </tr>\n",
       "  </thead>\n",
       "  <tbody>\n",
       "    <tr>\n",
       "      <th>0</th>\n",
       "      <td>7.4</td>\n",
       "      <td>0.70</td>\n",
       "      <td>0.00</td>\n",
       "      <td>1.9</td>\n",
       "      <td>0.076</td>\n",
       "      <td>11.0</td>\n",
       "      <td>34.0</td>\n",
       "      <td>0.9978</td>\n",
       "      <td>3.51</td>\n",
       "      <td>0.56</td>\n",
       "      <td>9.4</td>\n",
       "      <td>5</td>\n",
       "    </tr>\n",
       "    <tr>\n",
       "      <th>1</th>\n",
       "      <td>7.8</td>\n",
       "      <td>0.88</td>\n",
       "      <td>0.00</td>\n",
       "      <td>2.6</td>\n",
       "      <td>0.098</td>\n",
       "      <td>25.0</td>\n",
       "      <td>67.0</td>\n",
       "      <td>0.9968</td>\n",
       "      <td>3.20</td>\n",
       "      <td>0.68</td>\n",
       "      <td>9.8</td>\n",
       "      <td>5</td>\n",
       "    </tr>\n",
       "    <tr>\n",
       "      <th>2</th>\n",
       "      <td>7.8</td>\n",
       "      <td>0.76</td>\n",
       "      <td>0.04</td>\n",
       "      <td>2.3</td>\n",
       "      <td>0.092</td>\n",
       "      <td>15.0</td>\n",
       "      <td>54.0</td>\n",
       "      <td>0.9970</td>\n",
       "      <td>3.26</td>\n",
       "      <td>0.65</td>\n",
       "      <td>9.8</td>\n",
       "      <td>5</td>\n",
       "    </tr>\n",
       "    <tr>\n",
       "      <th>3</th>\n",
       "      <td>11.2</td>\n",
       "      <td>0.28</td>\n",
       "      <td>0.56</td>\n",
       "      <td>1.9</td>\n",
       "      <td>0.075</td>\n",
       "      <td>17.0</td>\n",
       "      <td>60.0</td>\n",
       "      <td>0.9980</td>\n",
       "      <td>3.16</td>\n",
       "      <td>0.58</td>\n",
       "      <td>9.8</td>\n",
       "      <td>6</td>\n",
       "    </tr>\n",
       "    <tr>\n",
       "      <th>4</th>\n",
       "      <td>7.4</td>\n",
       "      <td>0.70</td>\n",
       "      <td>0.00</td>\n",
       "      <td>1.9</td>\n",
       "      <td>0.076</td>\n",
       "      <td>11.0</td>\n",
       "      <td>34.0</td>\n",
       "      <td>0.9978</td>\n",
       "      <td>3.51</td>\n",
       "      <td>0.56</td>\n",
       "      <td>9.4</td>\n",
       "      <td>5</td>\n",
       "    </tr>\n",
       "  </tbody>\n",
       "</table>\n",
       "</div>"
      ],
      "text/plain": [
       "   fixed acidity  volatile acidity  citric acid  residual sugar  chlorides  \\\n",
       "0            7.4              0.70         0.00             1.9      0.076   \n",
       "1            7.8              0.88         0.00             2.6      0.098   \n",
       "2            7.8              0.76         0.04             2.3      0.092   \n",
       "3           11.2              0.28         0.56             1.9      0.075   \n",
       "4            7.4              0.70         0.00             1.9      0.076   \n",
       "\n",
       "   free sulfur dioxide  total sulfur dioxide  density    pH  sulphates  \\\n",
       "0                 11.0                  34.0   0.9978  3.51       0.56   \n",
       "1                 25.0                  67.0   0.9968  3.20       0.68   \n",
       "2                 15.0                  54.0   0.9970  3.26       0.65   \n",
       "3                 17.0                  60.0   0.9980  3.16       0.58   \n",
       "4                 11.0                  34.0   0.9978  3.51       0.56   \n",
       "\n",
       "   alcohol  quality  \n",
       "0      9.4        5  \n",
       "1      9.8        5  \n",
       "2      9.8        5  \n",
       "3      9.8        6  \n",
       "4      9.4        5  "
      ]
     },
     "execution_count": 3,
     "metadata": {},
     "output_type": "execute_result"
    }
   ],
   "source": [
    "# Display top 5 rows of the DataFrame\n",
    "df.head()"
   ]
  },
  {
   "cell_type": "code",
   "execution_count": 4,
   "id": "d42a7fff",
   "metadata": {},
   "outputs": [
    {
     "name": "stdout",
     "output_type": "stream",
     "text": [
      "<class 'pandas.core.frame.DataFrame'>\n",
      "RangeIndex: 1599 entries, 0 to 1598\n",
      "Data columns (total 12 columns):\n",
      " #   Column                Non-Null Count  Dtype  \n",
      "---  ------                --------------  -----  \n",
      " 0   fixed acidity         1599 non-null   float64\n",
      " 1   volatile acidity      1599 non-null   float64\n",
      " 2   citric acid           1599 non-null   float64\n",
      " 3   residual sugar        1599 non-null   float64\n",
      " 4   chlorides             1599 non-null   float64\n",
      " 5   free sulfur dioxide   1599 non-null   float64\n",
      " 6   total sulfur dioxide  1599 non-null   float64\n",
      " 7   density               1599 non-null   float64\n",
      " 8   pH                    1599 non-null   float64\n",
      " 9   sulphates             1599 non-null   float64\n",
      " 10  alcohol               1599 non-null   float64\n",
      " 11  quality               1599 non-null   int64  \n",
      "dtypes: float64(11), int64(1)\n",
      "memory usage: 150.0 KB\n"
     ]
    }
   ],
   "source": [
    "# Explore data with info\n",
    "df.info()"
   ]
  },
  {
   "cell_type": "code",
   "execution_count": 5,
   "id": "a3bd96cc",
   "metadata": {},
   "outputs": [
    {
     "data": {
      "text/plain": [
       "<matplotlib.axes._subplots.AxesSubplot at 0x14428ebe0>"
      ]
     },
     "execution_count": 5,
     "metadata": {},
     "output_type": "execute_result"
    },
    {
     "data": {
      "image/png": "[encoded data removed]",
      "text/plain": [
       "<Figure size 640x480 with 1 Axes>"
      ]
     },
     "metadata": {},
     "output_type": "display_data"
    }
   ],
   "source": [
    "# Check the quality distribution with histogram\n",
    "sns.histplot(df['quality'])"
   ]
  },
  {
   "cell_type": "markdown",
   "id": "987bf0fe",
   "metadata": {},
   "source": [
    "### 2. Split data"
   ]
  },
  {
   "cell_type": "code",
   "execution_count": 6,
   "id": "a20335b0",
   "metadata": {},
   "outputs": [],
   "source": [
    "# Set features (X) and prediction (Y) columns\n",
    "X = df.drop('quality',axis=1)\n",
    "y = df['quality']"
   ]
  },
  {
   "cell_type": "code",
   "execution_count": 7,
   "id": "e978b9d3",
   "metadata": {},
   "outputs": [],
   "source": [
    "# Split the data into training and test sets. (0.75, 0.25) split\n",
    "X_train, X_test, y_train, y_test = train_test_split(X, y, test_size=0.25, random_state=43)"
   ]
  },
  {
   "cell_type": "code",
   "execution_count": 8,
   "id": "61992e18",
   "metadata": {},
   "outputs": [
    {
     "data": {
      "text/plain": [
       "((1599, 12), (1199, 11), (1199,), (400, 11), (400,))"
      ]
     },
     "execution_count": 8,
     "metadata": {},
     "output_type": "execute_result"
    }
   ],
   "source": [
    "# Check the data split\n",
    "df.shape, X_train.shape, y_train.shape, X_test.shape, y_test.shape"
   ]
  },
  {
   "cell_type": "code",
   "execution_count": 9,
   "id": "703d2eee",
   "metadata": {},
   "outputs": [
    {
     "data": {
      "text/plain": [
       "1588    6\n",
       "1228    7\n",
       "368     5\n",
       "670     5\n",
       "1066    7\n",
       "       ..\n",
       "16      7\n",
       "58      5\n",
       "277     6\n",
       "255     5\n",
       "1344    5\n",
       "Name: quality, Length: 1199, dtype: int64"
      ]
     },
     "execution_count": 9,
     "metadata": {},
     "output_type": "execute_result"
    }
   ],
   "source": [
    "# check labels\n",
    "y_train"
   ]
  },
  {
   "cell_type": "markdown",
   "id": "301b7146",
   "metadata": {},
   "source": [
    "### 3. Train Linear Regression Model"
   ]
  },
  {
   "cell_type": "code",
   "execution_count": 10,
   "id": "d5be1d29",
   "metadata": {},
   "outputs": [],
   "source": [
    "# define alpha - Constant that multiplies the penalty terms.\n",
    "alpha = 0.5\n",
    "\n",
    "# define l1 ratio \n",
    "l1 = 0.5\n",
    "\n",
    "# ElasticNet is a linear regression model trained with both l1 and l2 - norm regularization\n",
    "lr = ElasticNet(alpha = alpha, l1_ratio = l1)"
   ]
  },
  {
   "cell_type": "code",
   "execution_count": 11,
   "id": "634b945f",
   "metadata": {},
   "outputs": [
    {
     "data": {
      "text/html": [
       "<style>#sk-container-id-1 {color: black;background-color: white;}#sk-container-id-1 pre{padding: 0;}#sk-container-id-1 div.sk-toggleable {background-color: white;}#sk-container-id-1 label.sk-toggleable__label {cursor: pointer;display: block;width: 100%;margin-bottom: 0;padding: 0.3em;box-sizing: border-box;text-align: center;}#sk-container-id-1 label.sk-toggleable__label-arrow:before {content: \"▸\";float: left;margin-right: 0.25em;color: #696969;}#sk-container-id-1 label.sk-toggleable__label-arrow:hover:before {color: black;}#sk-container-id-1 div.sk-estimator:hover label.sk-toggleable__label-arrow:before {color: black;}#sk-container-id-1 div.sk-toggleable__content {max-height: 0;max-width: 0;overflow: hidden;text-align: left;background-color: #f0f8ff;}#sk-container-id-1 div.sk-toggleable__content pre {margin: 0.2em;color: black;border-radius: 0.25em;background-color: #f0f8ff;}#sk-container-id-1 input.sk-toggleable__control:checked~div.sk-toggleable__content {max-height: 200px;max-width: 100%;overflow: auto;}#sk-container-id-1 input.sk-toggleable__control:checked~label.sk-toggleable__label-arrow:before {content: \"▾\";}#sk-container-id-1 div.sk-estimator input.sk-toggleable__control:checked~label.sk-toggleable__label {background-color: #d4ebff;}#sk-container-id-1 div.sk-label input.sk-toggleable__control:checked~label.sk-toggleable__label {background-color: #d4ebff;}#sk-container-id-1 input.sk-hidden--visually {border: 0;clip: rect(1px 1px 1px 1px);clip: rect(1px, 1px, 1px, 1px);height: 1px;margin: -1px;overflow: hidden;padding: 0;position: absolute;width: 1px;}#sk-container-id-1 div.sk-estimator {font-family: monospace;background-color: #f0f8ff;border: 1px dotted black;border-radius: 0.25em;box-sizing: border-box;margin-bottom: 0.5em;}#sk-container-id-1 div.sk-estimator:hover {background-color: #d4ebff;}#sk-container-id-1 div.sk-parallel-item::after {content: \"\";width: 100%;border-bottom: 1px solid gray;flex-grow: 1;}#sk-container-id-1 div.sk-label:hover label.sk-toggleable__label {background-color: #d4ebff;}#sk-container-id-1 div.sk-serial::before {content: \"\";position: absolute;border-left: 1px solid gray;box-sizing: border-box;top: 0;bottom: 0;left: 50%;z-index: 0;}#sk-container-id-1 div.sk-serial {display: flex;flex-direction: column;align-items: center;background-color: white;padding-right: 0.2em;padding-left: 0.2em;position: relative;}#sk-container-id-1 div.sk-item {position: relative;z-index: 1;}#sk-container-id-1 div.sk-parallel {display: flex;align-items: stretch;justify-content: center;background-color: white;position: relative;}#sk-container-id-1 div.sk-item::before, #sk-container-id-1 div.sk-parallel-item::before {content: \"\";position: absolute;border-left: 1px solid gray;box-sizing: border-box;top: 0;bottom: 0;left: 50%;z-index: -1;}#sk-container-id-1 div.sk-parallel-item {display: flex;flex-direction: column;z-index: 1;position: relative;background-color: white;}#sk-container-id-1 div.sk-parallel-item:first-child::after {align-self: flex-end;width: 50%;}#sk-container-id-1 div.sk-parallel-item:last-child::after {align-self: flex-start;width: 50%;}#sk-container-id-1 div.sk-parallel-item:only-child::after {width: 0;}#sk-container-id-1 div.sk-dashed-wrapped {border: 1px dashed gray;margin: 0 0.4em 0.5em 0.4em;box-sizing: border-box;padding-bottom: 0.4em;background-color: white;}#sk-container-id-1 div.sk-label label {font-family: monospace;font-weight: bold;display: inline-block;line-height: 1.2em;}#sk-container-id-1 div.sk-label-container {text-align: center;}#sk-container-id-1 div.sk-container {/* jupyter's `normalize.less` sets `[hidden] { display: none; }` but bootstrap.min.css set `[hidden] { display: none !important; }` so we also need the `!important` here to be able to override the default hidden behavior on the sphinx rendered scikit-learn.org. See: https://github.com/scikit-learn/scikit-learn/issues/21755 */display: inline-block !important;position: relative;}#sk-container-id-1 div.sk-text-repr-fallback {display: none;}</style><div id=\"sk-container-id-1\" class=\"sk-top-container\"><div class=\"sk-text-repr-fallback\"><pre>ElasticNet(alpha=0.5)</pre><b>In a Jupyter environment, please rerun this cell to show the HTML representation or trust the notebook. <br />On GitHub, the HTML representation is unable to render, please try loading this page with nbviewer.org.</b></div><div class=\"sk-container\" hidden><div class=\"sk-item\"><div class=\"sk-estimator sk-toggleable\"><input class=\"sk-toggleable__control sk-hidden--visually\" id=\"sk-estimator-id-1\" type=\"checkbox\" checked><label for=\"sk-estimator-id-1\" class=\"sk-toggleable__label sk-toggleable__label-arrow\">ElasticNet</label><div class=\"sk-toggleable__content\"><pre>ElasticNet(alpha=0.5)</pre></div></div></div></div></div>"
      ],
      "text/plain": [
       "ElasticNet(alpha=0.5)"
      ]
     },
     "execution_count": 11,
     "metadata": {},
     "output_type": "execute_result"
    }
   ],
   "source": [
    "# Fit on train split of data\n",
    "lr.fit(X_train, y_train)"
   ]
  },
  {
   "cell_type": "code",
   "execution_count": 14,
   "id": "4f693413",
   "metadata": {},
   "outputs": [],
   "source": [
    "# define evaluation function\n",
    "def eval_metrics(ground_truth, pred):\n",
    "    \n",
    "    rmse = np.sqrt(metrics.mean_squared_error(ground_truth, pred))\n",
    "    mae = metrics.mean_absolute_error(ground_truth, pred)\n",
    "    r2 = metrics.r2_score(ground_truth, pred)\n",
    "    \n",
    "    return rmse, mae, r2"
   ]
  },
  {
   "cell_type": "code",
   "execution_count": 15,
   "id": "887c844e",
   "metadata": {},
   "outputs": [],
   "source": [
    "# get prediction on the train set\n",
    "y_pred = lr.predict(X_train)"
   ]
  },
  {
   "cell_type": "code",
   "execution_count": 16,
   "id": "86e21c64",
   "metadata": {},
   "outputs": [],
   "source": [
    "# get evaluation on the train dataset\n",
    "(rmse, mae, r2) = eval_metrics(y_train,y_pred)"
   ]
  },
  {
   "cell_type": "code",
   "execution_count": 17,
   "id": "731052ce",
   "metadata": {},
   "outputs": [
    {
     "name": "stdout",
     "output_type": "stream",
     "text": [
      "Dataset: Training \n",
      "RMSE:0.7577741148316872\n",
      "MAE: 0.61353431258984\n",
      "R2:0.12054192894819826\n"
     ]
    }
   ],
   "source": [
    "# Print the model metrics on Training dataset\n",
    "print(f\"Dataset: Training \\nRMSE:{rmse}\\nMAE: {mae}\\nR2:{r2}\")"
   ]
  },
  {
   "cell_type": "markdown",
   "id": "9a7877d9",
   "metadata": {},
   "source": [
    "## Putting it all together"
   ]
  },
  {
   "cell_type": "code",
   "execution_count": 18,
   "id": "6e938684",
   "metadata": {},
   "outputs": [
    {
     "name": "stdout",
     "output_type": "stream",
     "text": [
      "Dataset: Training \n",
      "RMSE:0.7577741148316872\n",
      "MAE: 0.61353431258984\n",
      "R2:0.12054192894819826\n"
     ]
    }
   ],
   "source": [
    "def eval_metrics(ground_truth, pred):\n",
    "    \n",
    "    rmse = np.sqrt(metrics.mean_squared_error(ground_truth, pred))\n",
    "    mae = metrics.mean_absolute_error(ground_truth, pred)\n",
    "    r2 = metrics.r2_score(ground_truth, pred)\n",
    "    \n",
    "    return rmse, mae, r2\n",
    "\n",
    "# Read the wine-quality csv file\n",
    "df = pd.read_csv(\"data/winequality-red.csv\")\n",
    "np.random.seed(40)\n",
    "\n",
    "# Split the data into training and test sets. (0.75, 0.25) split.\n",
    "X = df.drop('quality',axis=1)\n",
    "y = df['quality']\n",
    "X_train, X_test, y_train, y_test = train_test_split(X, y, test_size=0.25, random_state=43)\n",
    "\n",
    "### Train the model ###\n",
    "alpha = 0.5\n",
    "l1 = 0.5\n",
    "\n",
    "lr = ElasticNet(alpha=alpha, l1_ratio=l1)\n",
    "lr.fit(X_train,y_train)\n",
    "\n",
    "# Get prediction\n",
    "y_pred = lr.predict(X_train)\n",
    "\n",
    "# Check model performance on training\n",
    "(rmse, mae, r2) = eval_metrics(y_train,y_pred)\n",
    "print(f\"Dataset: Training \\nRMSE:{rmse}\\nMAE: {mae}\\nR2:{r2}\")"
   ]
  },
  {
   "cell_type": "markdown",
   "id": "e321a96e",
   "metadata": {},
   "source": [
    "<div class=\"alert alert-info\"> \n",
    "<h2>Let's bring MLflow into the picture</h2>\n",
    "</div>"
   ]
  },
  {
   "cell_type": "markdown",
   "id": "a2d4c3a1",
   "metadata": {},
   "source": [
    "<div class=\"alert alert-warning\">\n",
    "    <h3> 1. Basics </h3>\n",
    "</div>"
   ]
  },
  {
   "cell_type": "markdown",
   "id": "9b6438e9",
   "metadata": {},
   "source": [
    "1. Go to the Terminal\n",
    "2. Run the code ```mlflow ui``` (path: where this notebook is stored)"
   ]
  },
  {
   "cell_type": "code",
   "execution_count": 20,
   "id": "6d54b892",
   "metadata": {},
   "outputs": [],
   "source": [
    "import mlflow"
   ]
  },
  {
   "cell_type": "code",
   "execution_count": 21,
   "id": "f78e32c4",
   "metadata": {},
   "outputs": [
    {
     "name": "stdout",
     "output_type": "stream",
     "text": [
      "Dataset: Training \n",
      "RMSE:0.7577741148316872\n",
      "MAE: 0.61353431258984\n",
      "R2:0.12054192894819826\n"
     ]
    }
   ],
   "source": [
    "def eval_metrics(ground_truth, pred):\n",
    "    \n",
    "    rmse = np.sqrt(metrics.mean_squared_error(ground_truth, pred))\n",
    "    mae = metrics.mean_absolute_error(ground_truth, pred)\n",
    "    r2 = metrics.r2_score(ground_truth, pred)\n",
    "    \n",
    "    return rmse, mae, r2\n",
    "\n",
    "# Read the wine-quality csv file\n",
    "df = pd.read_csv(\"data/winequality-red.csv\")\n",
    "np.random.seed(40)\n",
    "\n",
    "# Split the data into training and test sets. (0.75, 0.25) split.\n",
    "X = df.drop('quality',axis=1)\n",
    "y = df['quality']\n",
    "X_train, X_test, y_train, y_test = train_test_split(X, y, test_size=0.25, random_state=43)\n",
    "\n",
    "### Train the model ###\n",
    "\n",
    "#######################################################\n",
    "################### MLflow code #######################\n",
    "#######################################################\n",
    "\n",
    "with mlflow.start_run():\n",
    "    \n",
    "    alpha = 0.5\n",
    "    l1 = 0.5\n",
    "    \n",
    "    lr = ElasticNet(alpha=alpha, l1_ratio=l1)\n",
    "    lr.fit(X_train,y_train)\n",
    "\n",
    "    # Get prediction on Test dataset\n",
    "    y_pred = lr.predict(X_train)\n",
    "\n",
    "    # Check model performance on test\n",
    "    (rmse, mae, r2) = eval_metrics(y_train,y_pred)\n",
    "    print(f\"Dataset: Training \\nRMSE:{rmse}\\nMAE: {mae}\\nR2:{r2}\")\n",
    "\n",
    "    ###################### Logging code ######################\n",
    "    \n",
    "    # log parameters of the model\n",
    "    mlflow.log_param(\"alpha\", alpha)\n",
    "    mlflow.log_param(\"l1_ratio\", l1)\n",
    "    \n",
    "    # log metrics \n",
    "    mlflow.log_metric(\"rmse\", rmse)\n",
    "    mlflow.log_metric(\"mae\", mae)\n",
    "    mlflow.log_metric(\"r2\", r2)\n",
    "    "
   ]
  },
  {
   "cell_type": "markdown",
   "id": "df84558e",
   "metadata": {},
   "source": [
    "### Checkout the MLflow dashboard \n",
    "- Go to the link in the terminal (default is <a href='http://127.0.0.1:5000'> http://127.0.0.1:5000 </a>)"
   ]
  },
  {
   "cell_type": "markdown",
   "id": "87fc953c",
   "metadata": {},
   "source": [
    "#### Perform hyperparameter tuning without\n",
    "- Grid search\n",
    "- Random search<br>\n",
    "(beyond the scope of this workshop, for more information check - https://github.com/mlflow/mlflow/tree/master/examples/hyperparam )\n",
    "\n",
    "#### How then? Using the MLflow loggers"
   ]
  },
  {
   "cell_type": "markdown",
   "id": "f713f29f",
   "metadata": {},
   "source": [
    "Try:\n",
    "```python\n",
    "alpha = [0, 0.2, 0.4, 0.6, 0.8, 1.0]\n",
    "l1 = [0, 0.2, 0.4, 0.6, 0.8, 1.0]\n",
    "```"
   ]
  },
  {
   "cell_type": "code",
   "execution_count": 33,
   "id": "214aa46e",
   "metadata": {},
   "outputs": [
    {
     "name": "stdout",
     "output_type": "stream",
     "text": [
      "Dataset: Training \n",
      "RMSE:0.7920282627113675\n",
      "MAE: 0.6501030578987284\n",
      "R2:0.039235460441300996\n"
     ]
    }
   ],
   "source": [
    "alpha = 1.0\n",
    "l1 = 0.5\n",
    "    \n",
    "\n",
    "#######################################################\n",
    "################### MLflow code #######################\n",
    "#######################################################\n",
    "\n",
    "with mlflow.start_run():\n",
    "    lr = ElasticNet(alpha=alpha, l1_ratio=l1)\n",
    "    lr.fit(X_train,y_train)\n",
    "\n",
    "    # Get prediction on Test dataset\n",
    "    y_pred = lr.predict(X_train)\n",
    "\n",
    "    # Check model performance on test\n",
    "    (rmse, mae, r2) = eval_metrics(y_train,y_pred)\n",
    "    print(f\"Dataset: Training \\nRMSE:{rmse}\\nMAE: {mae}\\nR2:{r2}\")\n",
    "\n",
    "    ###################### Logging code ######################\n",
    "    \n",
    "    #log parameters of the model\n",
    "    mlflow.log_param(\"alpha\", alpha)\n",
    "    mlflow.log_param(\"l1_ratio\", l1)\n",
    "    \n",
    "    # log metrics \n",
    "    mlflow.log_metric(\"rmse\", rmse)\n",
    "    mlflow.log_metric(\"r2\", r2)\n",
    "    mlflow.log_metric(\"mae\", mae)"
   ]
  },
  {
   "cell_type": "markdown",
   "id": "ca259ea5",
   "metadata": {},
   "source": [
    "### Try on test dataset?"
   ]
  },
  {
   "cell_type": "code",
   "execution_count": null,
   "id": "2559c71a",
   "metadata": {},
   "outputs": [],
   "source": [
    "with mlflow.start_run():\n",
    "\n",
    "    # Get prediction on Test dataset\n",
    "    y_pred = lr.predict(X_test)\n",
    "\n",
    "    # Check model performance on test\n",
    "    (rmse, mae, r2) = eval_metrics(y_test,y_pred)\n",
    "    print(f\"Dataset: Test \\nRMSE:{rmse}\\nMAE: {mae}\\nR2:{r2}\")\n",
    "\n",
    "    #log parameters of the model\n",
    "    mlflow.log_param(\"alpha\", alpha)\n",
    "    mlflow.log_param(\"l1_ratio\", l1)\n",
    "    \n",
    "    # log metrics \n",
    "    mlflow.log_metric(\"rmse\", rmse)\n",
    "    mlflow.log_metric(\"r2\", r2)\n",
    "    mlflow.log_metric(\"mae\", mae)"
   ]
  },
  {
   "cell_type": "markdown",
   "id": "8e497dc0",
   "metadata": {},
   "source": [
    "<div class=\"alert alert-warning\">\n",
    "    <h3> 2. Using mlflow functions </h3>\n",
    "</div>"
   ]
  },
  {
   "cell_type": "markdown",
   "id": "b8788783",
   "metadata": {},
   "source": [
    "- Creating and Setting `Experiment` name using `mlflow.set_experiment(name)`\n",
    "- Adding ` Current Run` name\n",
    "- Adding `Tags`"
   ]
  },
  {
   "cell_type": "code",
   "execution_count": 34,
   "id": "f9196268",
   "metadata": {},
   "outputs": [
    {
     "name": "stderr",
     "output_type": "stream",
     "text": [
      "2022/12/01 10:29:08 INFO mlflow.tracking.fluent: Experiment with name 'Experiment-1' does not exist. Creating a new experiment.\n"
     ]
    },
    {
     "name": "stdout",
     "output_type": "stream",
     "text": [
      "Dataset: Training \n",
      "RMSE:0.7577741148316872\n",
      "MAE: 0.61353431258984\n",
      "R2:0.12054192894819826\n"
     ]
    }
   ],
   "source": [
    "def eval_metrics(ground_truth, pred):\n",
    "    \n",
    "    rmse = np.sqrt(metrics.mean_squared_error(ground_truth, pred))\n",
    "    mae = metrics.mean_absolute_error(ground_truth, pred)\n",
    "    r2 = metrics.r2_score(ground_truth, pred)\n",
    "    \n",
    "    return rmse, mae, r2\n",
    "\n",
    "# Read the wine-quality csv file\n",
    "df = pd.read_csv(\"data/winequality-red.csv\")\n",
    "np.random.seed(40)\n",
    "\n",
    "# Split the data into training and test sets. (0.75, 0.25) split.\n",
    "X = df.drop('quality',axis=1)\n",
    "y = df['quality']\n",
    "X_train, X_test, y_train, y_test = train_test_split(X, y, test_size=0.25, random_state=43)\n",
    "\n",
    "### Train the model ###\n",
    "\n",
    "#######################################################\n",
    "################### MLflow code #######################\n",
    "#######################################################\n",
    "\n",
    "# set experiment name\n",
    "experiment_name = \"Experiment-1\"\n",
    "\n",
    "# set current run name\n",
    "current_run_name = \"setting new experiment\"\n",
    "\n",
    "# adding tags as dict{} for each run\n",
    "tags = {\"Demo\":True,\n",
    "       \"created by\": \"Saumya\"\n",
    "       }\n",
    "\n",
    "# Set experiment name, if not created already it creates a new experiment\n",
    "mlflow.set_experiment(experiment_name)\n",
    "\n",
    "with mlflow.start_run(run_name=current_run_name):\n",
    "    \n",
    "    alpha = 0.5\n",
    "    l1 = 0.5\n",
    "    \n",
    "    lr = ElasticNet(alpha=alpha, l1_ratio=l1)\n",
    "    lr.fit(X_train,y_train)\n",
    "\n",
    "    # Get prediction on Test dataset\n",
    "    y_pred = lr.predict(X_train)\n",
    "\n",
    "    # Check model performance on test\n",
    "    (rmse, mae, r2) = eval_metrics(y_train,y_pred)\n",
    "    print(f\"Dataset: Training \\nRMSE:{rmse}\\nMAE: {mae}\\nR2:{r2}\")\n",
    "\n",
    "    ###################### Logging code ######################\n",
    "    \n",
    "    #log parameters of the model\n",
    "    mlflow.log_param(\"alpha\", alpha)\n",
    "    mlflow.log_param(\"l1_ratio\", l1)\n",
    "    \n",
    "    # log metrics \n",
    "    mlflow.log_metric(\"rmse\", rmse)\n",
    "    mlflow.log_metric(\"r2\", r2)\n",
    "    mlflow.log_metric(\"mae\", mae)\n",
    "    \n",
    "    ############ log tags ##############\n",
    "    mlflow.set_tags(tags)\n",
    "   \n"
   ]
  },
  {
   "cell_type": "markdown",
   "id": "0705aee5",
   "metadata": {},
   "source": [
    "<div class=\"alert alert-warning\">\n",
    "    <h3> 3. Adding artifact store </h3>\n",
    "</div>\n",
    "\n",
    "- check current storage of model metadata\n",
    "- create a new artifact store locally `mlflow.create_experiment(experiment_name, location)`\n",
    "- log the regression model for the storing its artifacts using `mlflow.sklearn.log_model(model, \"name\")`"
   ]
  },
  {
   "cell_type": "code",
   "execution_count": 36,
   "id": "2b11a58c",
   "metadata": {},
   "outputs": [
    {
     "name": "stdout",
     "output_type": "stream",
     "text": [
      "Dataset: Training \n",
      "RMSE:0.7070235814227004\n",
      "MAE: 0.5542616149756437\n",
      "R2:0.23439739007007954\n"
     ]
    }
   ],
   "source": [
    "def eval_metrics(ground_truth, pred):\n",
    "    \n",
    "    rmse = np.sqrt(metrics.mean_squared_error(ground_truth, pred))\n",
    "    mae = metrics.mean_absolute_error(ground_truth, pred)\n",
    "    r2 = metrics.r2_score(ground_truth, pred)\n",
    "    \n",
    "    return rmse, mae, r2\n",
    "\n",
    "# Read the wine-quality csv file\n",
    "df = pd.read_csv(\"data/winequality-red.csv\")\n",
    "np.random.seed(40)\n",
    "\n",
    "# Split the data into training and test sets. (0.75, 0.25) split.\n",
    "X = df.drop('quality',axis=1)\n",
    "y = df['quality']\n",
    "X_train, X_test, y_train, y_test = train_test_split(X, y, test_size=0.25, random_state=43)\n",
    "\n",
    "### Train the model ###\n",
    "\n",
    "#######################################################\n",
    "################### MLflow code #######################\n",
    "#######################################################\n",
    "\n",
    "# set experiment name\n",
    "experiment_name = \"Experiment-2\"\n",
    "\n",
    "# set curent run name\n",
    "current_run_name = \"With new artifact location\"\n",
    "\n",
    "# set artifact location - new folder\n",
    "artifact_location = \"/Users/saumyagoyal/JupyterNotebook/mlcon_mlflow/mlflow_artifacts\"\n",
    "\n",
    "# adding tags for each run\n",
    "tags = {\"Demo\": \"True\",\n",
    "        \"created-by\": \"dev team ID\"}\n",
    "\n",
    "# Create(location) and set a new experiment name\n",
    "mlflow.create_experiment(experiment_name, artifact_location)\n",
    "mlflow.set_experiment(experiment_name)\n",
    "\n",
    "with mlflow.start_run(run_name=current_run_name):\n",
    "    \n",
    "    alpha = 0.1\n",
    "    l1 = 0.5\n",
    "    \n",
    "    lr = ElasticNet(alpha=alpha, l1_ratio=l1)\n",
    "    lr.fit(X_train,y_train)\n",
    "\n",
    "    # Get prediction on Test dataset\n",
    "    y_pred = lr.predict(X_train)\n",
    "\n",
    "    # Check model performance on test\n",
    "    (rmse, mae, r2) = eval_metrics(y_train,y_pred)\n",
    "    print(f\"Dataset: Training \\nRMSE:{rmse}\\nMAE: {mae}\\nR2:{r2}\")\n",
    "\n",
    "    ###################### Logging code ######################\n",
    "    \n",
    "    #log parameters of the model\n",
    "    mlflow.log_param(\"alpha\", alpha)\n",
    "    mlflow.log_param(\"l1_ratio\", l1)\n",
    "    \n",
    "    # log metrics \n",
    "    mlflow.log_metric(\"rmse\", rmse)\n",
    "    mlflow.log_metric(\"r2\", r2)\n",
    "    mlflow.log_metric(\"mae\", mae)\n",
    "    \n",
    "    # log tags\n",
    "    mlflow.set_tags(tags)\n",
    "\n",
    "    ########### logging the model in artifact store ###################\n",
    "    "
   ]
  },
  {
   "cell_type": "code",
   "execution_count": 38,
   "id": "91428ac5",
   "metadata": {},
   "outputs": [
    {
     "name": "stdout",
     "output_type": "stream",
     "text": [
      "Dataset: Training \n",
      "RMSE:0.7070235814227004\n",
      "MAE: 0.5542616149756437\n",
      "R2:0.23439739007007954\n"
     ]
    }
   ],
   "source": [
    "def eval_metrics(ground_truth, pred):\n",
    "    \n",
    "    rmse = np.sqrt(metrics.mean_squared_error(ground_truth, pred))\n",
    "    mae = metrics.mean_absolute_error(ground_truth, pred)\n",
    "    r2 = metrics.r2_score(ground_truth, pred)\n",
    "    \n",
    "    return rmse, mae, r2\n",
    "\n",
    "# Read the wine-quality csv file\n",
    "df = pd.read_csv(\"data/winequality-red.csv\")\n",
    "np.random.seed(40)\n",
    "\n",
    "# Split the data into training and test sets. (0.75, 0.25) split.\n",
    "X = df.drop('quality',axis=1)\n",
    "y = df['quality']\n",
    "X_train, X_test, y_train, y_test = train_test_split(X, y, test_size=0.25, random_state=43)\n",
    "\n",
    "### Train the model ###\n",
    "\n",
    "#######################################################\n",
    "################### MLflow code #######################\n",
    "#######################################################\n",
    "\n",
    "# set experiment name\n",
    "experiment_name = \"Experiment-3\"\n",
    "\n",
    "# set curent run name\n",
    "current_run_name = \"Logging sklearn model\"\n",
    "\n",
    "# set artifact location - new folder\n",
    "artifact_location = \"/Users/saumyagoyal/JupyterNotebook/mlcon_mlflow/mlflow_artifacts\"\n",
    "\n",
    "# adding tags for each run\n",
    "tags = {\"Demo\": \"True\",\n",
    "        \"created-by\": \"dev team ID\"}\n",
    "\n",
    "# Create(location) and set a new experiment name\n",
    "mlflow.create_experiment(experiment_name, artifact_location)\n",
    "mlflow.set_experiment(experiment_name)\n",
    "\n",
    "with mlflow.start_run(run_name=current_run_name):\n",
    "    \n",
    "    alpha = 0.1\n",
    "    l1 = 0.5\n",
    "    \n",
    "    lr = ElasticNet(alpha=alpha, l1_ratio=l1)\n",
    "    lr.fit(X_train,y_train)\n",
    "\n",
    "    # Get prediction on Test dataset\n",
    "    y_pred = lr.predict(X_train)\n",
    "\n",
    "    # Check model performance on test\n",
    "    (rmse, mae, r2) = eval_metrics(y_train,y_pred)\n",
    "    print(f\"Dataset: Training \\nRMSE:{rmse}\\nMAE: {mae}\\nR2:{r2}\")\n",
    "\n",
    "    ###################### Logging code ######################\n",
    "    \n",
    "    #log parameters of the model\n",
    "    mlflow.log_param(\"alpha\", alpha)\n",
    "    mlflow.log_param(\"l1_ratio\", l1)\n",
    "    \n",
    "    # log metrics \n",
    "    mlflow.log_metric(\"rmse\", rmse)\n",
    "    mlflow.log_metric(\"r2\", r2)\n",
    "    mlflow.log_metric(\"mae\", mae)\n",
    "    \n",
    "    # log tags\n",
    "    mlflow.set_tags(tags)\n",
    "\n",
    "    ########### logging the model in artifact store ###################\n",
    "    mlflow.sklearn.log_model(lr, \"Linear regression model\")"
   ]
  },
  {
   "cell_type": "markdown",
   "id": "5ff22473",
   "metadata": {},
   "source": [
    "<div class=\"alert alert-success\">\n",
    "    <h3> To be continued in the next session </h3>\n",
    "</div> "
   ]
  }
 ],
 "metadata": {
  "kernelspec": {
   "display_name": "Python 3 (ipykernel)",
   "language": "python",
   "name": "python3"
  },
  "language_info": {
   "codemirror_mode": {
    "name": "ipython",
    "version": 3
   },
   "file_extension": ".py",
   "mimetype": "text/x-python",
   "name": "python",
   "nbconvert_exporter": "python",
   "pygments_lexer": "ipython3",
   "version": "3.9.6"
  }
 },
 "nbformat": 4,
 "nbformat_minor": 5
}
